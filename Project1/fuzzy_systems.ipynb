{
 "cells": [
  {
   "cell_type": "markdown",
   "id": "838853bf-3129-40fe-9dc9-bae36cc6c212",
   "metadata": {
    "deletable": false,
    "editable": false,
    "slideshow": {
     "slide_type": ""
    },
    "tags": []
   },
   "source": [
    "# <center>Fuzzy Clustering</center>\n",
    "## <center>Inclass Project 1 - MA4144</center>\n",
    "\n",
    "This project contains 9 tasks/questions to be completed, some require written answers. Open markdow cell below the respective question that require written answers and provide (type) your answers. Questions that required written answers are given in blue fonts. Almost all written questions are open ended, they do not have a correct or wrong answer. You are free to give your opinions, but please provide related answers within the context.\n",
    "\n",
    "After finishing project run the entire notebook once and **save the notebook as a pdf** (File menu -> Save and Export Notebook As -> PDF). You are **required to upload this PDF on moodle**."
   ]
  },
  {
   "cell_type": "markdown",
   "id": "0b093dca-8f94-48a3-a27c-be7eac12798a",
   "metadata": {
    "deletable": false,
    "editable": false
   },
   "source": [
    "Use this cell to use any include any imports"
   ]
  },
  {
   "cell_type": "code",
   "execution_count": 1,
   "id": "525ae013-5a23-455f-a8bb-ea48d970378a",
   "metadata": {},
   "outputs": [],
   "source": [
    "import pandas as pd\n",
    "import numpy as np\n",
    "import matplotlib.pyplot as plt"
   ]
  },
  {
   "cell_type": "markdown",
   "id": "748e844d-c3ec-4a26-b418-8ce00346bb8a",
   "metadata": {
    "deletable": false,
    "editable": false,
    "slideshow": {
     "slide_type": ""
    },
    "tags": []
   },
   "source": [
    "**Q1.** In the following cell load the data (in the file SMDataRefined.csv) to a pandas dataframe, and display the data. Then get the data into a numpy matrix $X$, each row corresponding to a datapoint and each column to a feature, in our case whether a certain token exists ($1$) or not ($0$). Let us denote the number of rows of $X$ by $N$ and the number of columns by $M$.\n",
    "\n",
    "**About the dataset**: Each row in the dataset refers to a social media post. The first column refers to the number of likes received by each post (standardized between to the interval $[0, 1]$), the columns after that will denote the presence of a certain word (token) in the text of the post. For example, a $1$ in the column \"TextToken_life\" denotes that the particular post contained the word \"life\" in it and $0$ otherwise. These will be the features of our dataset. Our aim is to cluster these social media posts based on number of likes and words contained in it."
   ]
  },
  {
   "cell_type": "code",
   "execution_count": 2,
   "id": "74032883-8174-47a9-95d6-685d2ddad855",
   "metadata": {},
   "outputs": [
    {
     "name": "stdout",
     "output_type": "stream",
     "text": [
      "Data in DataFrame:\n",
      "        Likes  TextToken_life  TextToken_joy  TextToken_night  \\\n",
      "0    0.285714               0              0                0   \n",
      "1    0.000000               0              0                0   \n",
      "2    0.428571               0              0                0   \n",
      "3    0.071429               0              0                0   \n",
      "4    0.214286               0              0                0   \n",
      "..        ...             ...            ...              ...   \n",
      "727  0.414286               0              0                0   \n",
      "728  0.542857               0              0                0   \n",
      "729  0.457143               0              1                0   \n",
      "730  0.471429               0              0                0   \n",
      "731  0.528571               0              0                0   \n",
      "\n",
      "     TextToken_heart  TextToken_laughter  TextToken_dreams  TextToken_feeling  \\\n",
      "0                  0                   0                 0                  0   \n",
      "1                  0                   0                 0                  0   \n",
      "2                  0                   0                 0                  0   \n",
      "3                  0                   0                 0                  0   \n",
      "4                  0                   0                 0                  0   \n",
      "..               ...                 ...               ...                ...   \n",
      "727                0                   0                 0                  0   \n",
      "728                0                   1                 0                  0   \n",
      "729                0                   0                 0                  0   \n",
      "730                0                   0                 0                  0   \n",
      "731                0                   0                 0                  0   \n",
      "\n",
      "     TextToken_day  TextToken_like  TextToken_new  \n",
      "0                1               0              0  \n",
      "1                0               0              0  \n",
      "2                0               0              0  \n",
      "3                0               0              0  \n",
      "4                0               0              1  \n",
      "..             ...             ...            ...  \n",
      "727              0               0              0  \n",
      "728              0               0              0  \n",
      "729              0               0              0  \n",
      "730              0               0              0  \n",
      "731              0               0              0  \n",
      "\n",
      "[732 rows x 11 columns]\n",
      "\n",
      "Data in NumPy matrix:\n",
      "[[0.28571429 0.         0.         ... 1.         0.         0.        ]\n",
      " [0.         0.         0.         ... 0.         0.         0.        ]\n",
      " [0.42857143 0.         0.         ... 0.         0.         0.        ]\n",
      " ...\n",
      " [0.45714286 0.         1.         ... 0.         0.         0.        ]\n",
      " [0.47142857 0.         0.         ... 0.         0.         0.        ]\n",
      " [0.52857143 0.         0.         ... 0.         0.         0.        ]]\n"
     ]
    }
   ],
   "source": [
    "# Load the data into a pandas DataFrame\n",
    "df = pd.read_csv('SMDataRefined.csv')\n",
    "\n",
    "# Display the data\n",
    "print(\"Data in DataFrame:\")\n",
    "print(df)\n",
    "\n",
    "# Convert the DataFrame to a NumPy matrix\n",
    "X = df.to_numpy()\n",
    "\n",
    "# Display the resulting NumPy matrix\n",
    "print(\"\\nData in NumPy matrix:\")\n",
    "print(X)"
   ]
  },
  {
   "cell_type": "markdown",
   "id": "efefe30c-166f-435c-a4ae-8dbac00392c1",
   "metadata": {
    "deletable": false,
    "editable": false
   },
   "source": [
    "**Q2.** In the following cell create a new function named $\\textrm{initMu}$, that takes in two parameters $\\textrm{npoints}$ and $\\textrm{nclusters}$ and outputs the membership matrix for $\\textrm{npoints}$ number of data points and $\\textrm{nclusters}$ number of clusters. Recall from the lecture that the membership matrix $U$ of dimension $N \\times c$ has the following properties.\n",
    "\n",
    "1. $0 \\leq u_{ij} \\leq 1$\n",
    "2. $\\sum\\limits_{j = 1}^{c}u_{ij} = 1$ for all $i = 1,2, \\cdots, N$\n",
    "\n",
    "You can do a random initialization. Here $\\textrm{npoints} = N$ and $\\textrm{nclusters} = c$."
   ]
  },
  {
   "cell_type": "code",
   "execution_count": 5,
   "id": "a9a7c529-f4bf-4ae2-8a64-bc203af937fb",
   "metadata": {},
   "outputs": [],
   "source": [
    "def initMu(npoints, nclusters):\n",
    "     # Randomly generate values for the matrix\n",
    "    U = np.random.rand(npoints, nclusters)\n",
    "    \n",
    "    # Normalize each row to ensure the sum is 1\n",
    "    U = U / U.sum(axis=1, keepdims=True)\n",
    "\n",
    "    \n",
    "    return U"
   ]
  },
  {
   "cell_type": "code",
   "execution_count": 15,
   "id": "53b397b1-bfc5-47da-a77a-bf5c12f817a8",
   "metadata": {},
   "outputs": [
    {
     "name": "stdout",
     "output_type": "stream",
     "text": [
      "[[0.53148507 0.17774166 0.29077327]\n",
      " [0.31816786 0.10714066 0.57469148]\n",
      " [0.44085385 0.43367489 0.12547126]\n",
      " ...\n",
      " [0.47138392 0.39626618 0.13234989]\n",
      " [0.2891467  0.32715792 0.38369538]\n",
      " [0.23914429 0.41261415 0.34824155]]\n"
     ]
    }
   ],
   "source": [
    "u= initMu(X.shape[0],3)\n",
    "print(u)"
   ]
  },
  {
   "cell_type": "markdown",
   "id": "c1092e04-d846-4ea1-9ebc-44a369a5b3c5",
   "metadata": {
    "deletable": false,
    "editable": false
   },
   "source": [
    "**Q3.** In the following cell create a function named $\\textrm{calculateCenters}$ that computes and returns centers $v_j$, $j = 1, 2, \\cdots, c$ (as $c \\times M$ matrix) given the data matrix $X$ and the membership matrix $U$. Recall the following update formula for $v_j$ from the lectures.\n",
    "\n",
    "$v_j = \\frac{\\sum\\limits_{i = 1}^N {\\left( \\frac{u_{ij}}{u_{max}} \\right)}^{m_1} x_i}{\\sum\\limits_{i = 1}^N {\\left( \\frac{u_{ij}}{u_{max}} \\right)}^{m_1}}$\n",
    "\n",
    "Here $u_{max} = max \\left(u_{1j}, u_{2j}, \\cdots, u_{Nj} \\right)$ and $m_1 \\in [1, \\infty)$ is a hyperparameter we discussed in class, and will be passed in as a parameter to the function.\n",
    "\n",
    "The most efficient way to do this computation is by matrix multiplications. Try to find the appropriate matrix multiplication. You may need to transpose certain matrices."
   ]
  },
  {
   "cell_type": "code",
   "execution_count": 28,
   "id": "71f299a8-4c56-4cf3-a0de-f9e2786c9ec1",
   "metadata": {},
   "outputs": [],
   "source": [
    "def calculateCenters(X, U, m):\n",
    "    V = np.zeros((U.shape[1],X.shape[1]))\n",
    "    # modify U\n",
    "    # Get the maximum value from each column\n",
    "    u_max_vals = np.max(U, axis=0)\n",
    "    # print(u_max_vals[0])\n",
    "    mod_u = U\n",
    "    for col_index in range(0,mod_u.shape[1],1):\n",
    "        mod_u[:, col_index] /= u_max_vals[col_index]\n",
    "    mod_u = np.power(mod_u, m)\n",
    "\n",
    "    for j in range (0, U.shape[1],1):\n",
    "        mod_u_col_sum = np.sum(mod_u[:, j])\n",
    "        sum=0\n",
    "        for i in range(0,X.shape[0],1):\n",
    "            sum+=mod_u[i,j]*X[i, :]\n",
    "        V[j,:]=sum/mod_u_col_sum\n",
    "    \n",
    "    \n",
    "    return V"
   ]
  },
  {
   "cell_type": "code",
   "execution_count": 35,
   "id": "f511fdc4-aad0-40d4-bfe1-a7ce0da376bd",
   "metadata": {},
   "outputs": [
    {
     "name": "stdout",
     "output_type": "stream",
     "text": [
      "[[0.46292618 0.03431416 0.03807667 0.02373988 0.03436523 0.0388804\n",
      "  0.03403845 0.02395556 0.04269357 0.05060451 0.05533237]\n",
      " [0.47273207 0.0205617  0.02451791 0.03025331 0.02528608 0.02278774\n",
      "  0.02978666 0.0079877  0.03249363 0.03281064 0.05712615]\n",
      " [0.47907204 0.03206624 0.03804039 0.03636562 0.0335521  0.02655636\n",
      "  0.03109238 0.01136202 0.02671283 0.0200842  0.04198535]]\n",
      "(732, 11)\n",
      "(732, 3)\n"
     ]
    }
   ],
   "source": [
    "V= calculateCenters(X,u,2)\n",
    "print(V)\n",
    "print(X.shape)\n",
    "print(u.shape)"
   ]
  },
  {
   "cell_type": "code",
   "execution_count": 30,
   "id": "5ae4d157-0226-4375-bff4-c57c9bebd775",
   "metadata": {},
   "outputs": [
    {
     "name": "stdout",
     "output_type": "stream",
     "text": [
      "[1 2 3]\n",
      "[[1 2 3]]\n"
     ]
    }
   ],
   "source": [
    "vector1 = np.array([1, 2, 3])\n",
    "vector2 = np.array([4, 5, 6])\n",
    "\n",
    "print(vector1)\n",
    "# Reshape vectors to 2D (each vector as a single row)\n",
    "vector1 = vector1.reshape(1, -1)  # Shape becomes (1, 3)\n",
    "vector2 = vector2.reshape(1, -1)  # Shape becomes (1, 3)\n",
    "\n",
    "print(vector1)"
   ]
  },
  {
   "cell_type": "markdown",
   "id": "0a98c661-89c7-485d-a790-90d316ed1309",
   "metadata": {
    "deletable": false,
    "editable": false
   },
   "source": [
    "**Q4.** In the following cell create a function named $\\textrm{updateMu}$ that updates the membership matrix $U$ given the data matrix $X$ and the $\\textrm{centers}$. Recall the following update formula for $u_{ij}$ from the lectures.\n",
    "\n",
    "$u_{ij} = {\\left[ \\sum\\limits_{l = 1}^c { \\left( \\frac{d_{ij}}{d_{il}} \\right)}^{\\frac{2}{m_2 - 1}} \\right]}^{-1}$\n",
    "where $d_{ij}$ is the distance between the $i$th data point and the $j$th cluster center. $m_2 \\in (1, \\infty)$ is another hyperparameter that is passed into the function.\n",
    "\n",
    "To compute distances sklearn.metrics.pairwise.pairwise_distances could be useful. For these computations, try to avoid for loops as much as possible and use the tools offered by numpy for matrix manipulations for example such as numpy.tile.\n",
    "\n",
    "The function should finally return the updated $U$ matrix."
   ]
  },
  {
   "cell_type": "code",
   "execution_count": 31,
   "id": "4c54cc6f-427b-4671-b263-6932cfc2ed03",
   "metadata": {},
   "outputs": [],
   "source": [
    "from sklearn.metrics.pairwise import pairwise_distances"
   ]
  },
  {
   "cell_type": "code",
   "execution_count": 42,
   "id": "c7dadcdb-1267-4b66-858d-ef16caf7b309",
   "metadata": {},
   "outputs": [],
   "source": [
    "def updateMu(X, centers, m):\n",
    "    #Calc D matrix\n",
    "    D=np.zeros((X.shape[0],centers.shape[0]))\n",
    "    for x in range(X.shape[0]):\n",
    "        vector1 = X[x,:].reshape(1, -1)  \n",
    "        for v in range(centers.shape[0]):\n",
    "            vector2 = centers[v,:].reshape(1, -1)  \n",
    "            # Calculate Euclidean distance\n",
    "            distance = pairwise_distances(vector1, vector2, metric='euclidean')\n",
    "            D[x,v]=distance.item()\n",
    "    #print(D)\n",
    "    U=np.zeros((X.shape[0],centers.shape[0]))\n",
    "    for i in range(X.shape[0]):\n",
    "        for j in range(centers.shape[0]):\n",
    "            sum=0\n",
    "            for l in range (0, centers.shape[0],1):\n",
    "               sum+=((D[i,j]/D[i,l])**(2/(m-1)))\n",
    "            U[i,j]=1/sum\n",
    "    return U"
   ]
  },
  {
   "cell_type": "code",
   "execution_count": 43,
   "id": "a1f38d2f-323a-41ee-81ae-38d6b21b33da",
   "metadata": {},
   "outputs": [
    {
     "name": "stdout",
     "output_type": "stream",
     "text": [
      "[[0.33914842 0.33279267 0.32805891]\n",
      " [0.33968117 0.33449178 0.32582705]\n",
      " [0.26584572 0.37892049 0.35523378]\n",
      " ...\n",
      " [0.33526828 0.32769129 0.33704043]\n",
      " [0.23991025 0.38434813 0.37574162]\n",
      " [0.24103214 0.3716499  0.38731796]]\n"
     ]
    }
   ],
   "source": [
    "new_U=updateMu(X,V,2)\n",
    "print(new_U)"
   ]
  },
  {
   "cell_type": "markdown",
   "id": "cb3457f2-2d2d-4d01-b532-4bf2650d9536",
   "metadata": {
    "deletable": false,
    "editable": false
   },
   "source": [
    "**Q5.** Use following cell to create a function called $\\textrm{fuzzyClustering}$ that takes in a data matrix $X$ the number of clusters $\\textrm{nclusters}$, $m_1$, $m_2$ hyperparameters and then returns a membership matrix $U$ and nclusters number of centers for each cluster as a matrix whose rows will correspond to the centers. Recall that the fuzzy clustering algorithm,\n",
    "\n",
    "1. Initialize the membership matrix $U$\n",
    "Repeat the following steps while max iterations (maxIter) reached or change in norm of $U$ is greater than a specified tolerance (tol).\n",
    "2. Compute cluster centers\n",
    "3. Update membership matrix\n",
    "\n",
    "The function you create should be able to compute the norm between the $U$ matrices from consecutive iterations and plot a graph depicting the variation of the change in norm of $U$ against the number of iterations. "
   ]
  },
  {
   "cell_type": "code",
   "execution_count": 48,
   "id": "ca0b707a-4b0e-45ac-974b-958bf6345aef",
   "metadata": {},
   "outputs": [],
   "source": [
    "def fuzzyClustering(X, m1, m2, nclusters, maxiter = 50, tol = 10**(-5)):\n",
    "    U=initMu(X.shape[0], nclusters)\n",
    "    iterations=[]\n",
    "    norm_changes=[]\n",
    "    for itr in range(maxiter):\n",
    "        iterations.append(itr+1)\n",
    "        V= calculateCenters(X, U, m1)\n",
    "        U_new= updateMu(X, V, m2)\n",
    "        change_of_norms= abs(np.linalg.norm(U_new, ord='fro') - np.linalg.norm(U, ord='fro'))\n",
    "        norm_changes.append(change_of_norms)\n",
    "        if(change_of_norms <= tol):\n",
    "            break\n",
    "        U= U_new\n",
    "    #Plotting\n",
    "    plt.plot(iterations, norm_changes, marker='o', color='blue')\n",
    "    # Add labels and title\n",
    "    plt.xlabel('Number of Iterations')\n",
    "    plt.ylabel('Change in Norm')\n",
    "    plt.title('Change in Norm vs Number of Iterations')\n",
    "    plt.grid(True)\n",
    "    # Show the plot\n",
    "    plt.show()\n",
    "    \n",
    "    return U_new\n"
   ]
  },
  {
   "cell_type": "markdown",
   "id": "20e88b89-02ce-40ac-9469-3ac147c5f0da",
   "metadata": {
    "deletable": false,
    "editable": false
   },
   "source": [
    "**Q6.** Run the fuzzyClasssification algorithm with different hyperparameters $m_1, m_2, \\textrm{nclusters}$, note the plot of $U$-norm difference against the number of iterations. <font color='blue'>What can you say about it?</font>\n",
    "\n",
    "Now lets use the fuzzy membership to find some crisp cluster labelling $\\textrm{yfuzzy}$ to for each data point. For a given datapoint you'll assign the cluster labelling by looking at which cluster assigns the largest membership value. numpy.argmax function would be useful in this case. Again avoid for loops. "
   ]
  },
  {
   "cell_type": "code",
   "execution_count": 49,
   "id": "1d2c2e31-2aa2-40ca-b133-45aa528ac40c",
   "metadata": {},
   "outputs": [
    {
     "data": {
      "image/png": "[encoded data removed]",
      "text/plain": [
       "<Figure size 640x480 with 1 Axes>"
      ]
     },
     "metadata": {},
     "output_type": "display_data"
    }
   ],
   "source": [
    "U = fuzzyClustering(X, 2,3, 5)"
   ]
  },
  {
   "cell_type": "code",
   "execution_count": 51,
   "id": "b5c8de0b-6f3e-47da-ae24-32066753ebd2",
   "metadata": {},
   "outputs": [
    {
     "name": "stdout",
     "output_type": "stream",
     "text": [
      "Membership Matrix:\n",
      "[[0.20000006 0.20000003 0.20000004 0.19999996 0.19999991]\n",
      " [0.20000146 0.2000006  0.200001   0.19999912 0.19999782]\n",
      " [0.20000465 0.20000193 0.20000321 0.19999718 0.19999304]\n",
      " ...\n",
      " [0.19999994 0.19999998 0.19999996 0.20000003 0.20000008]\n",
      " [0.20000284 0.20000118 0.20000196 0.19999828 0.19999575]\n",
      " [0.19999959 0.19999983 0.19999971 0.20000025 0.20000062]]\n",
      "\n",
      "Crisp Cluster Labels:\n",
      "[0 0 0 0 0 4 0 4 4 0 4 0 0 4 0 0 0 0 4 0 0 0 4 0 0 0 4 0 0 0 0 0 4 4 0 0 0\n",
      " 0 0 4 4 0 4 0 0 0 4 0 0 0 4 0 0 0 4 0 4 0 0 0 4 0 0 0 0 4 0 0 0 0 0 4 0 0\n",
      " 4 0 0 0 4 0 4 0 0 0 4 0 0 4 0 4 0 0 0 0 0 4 0 4 4 0 0 0 0 0 4 4 0 0 0 0 0\n",
      " 4 0 4 0 0 0 4 0 4 0 0 4 0 4 0 0 4 4 0 4 0 0 0 0 4 0 0 4 0 4 4 0 0 4 0 4 0\n",
      " 0 4 0 4 0 0 0 4 0 4 0 0 0 0 4 0 0 0 0 0 0 0 0 0 0 0 0 0 0 0 0 0 0 0 0 0 0\n",
      " 0 0 0 0 0 0 0 0 0 0 0 0 0 0 0 0 0 0 0 0 0 0 0 0 0 0 0 0 0 4 4 4 0 0 0 0 0\n",
      " 0 0 0 4 0 0 0 0 0 0 0 0 4 0 0 0 0 0 0 0 0 4 4 0 0 4 0 0 4 4 0 0 4 0 4 0 4\n",
      " 4 0 0 0 4 0 0 0 4 4 0 0 4 4 4 0 4 0 0 0 0 0 4 4 0 0 4 4 4 0 4 0 0 0 0 0 4\n",
      " 0 0 0 0 0 0 0 0 4 0 0 0 4 0 0 0 0 0 4 0 0 0 0 0 0 0 0 0 0 0 4 0 0 0 4 0 4\n",
      " 0 0 4 0 4 4 4 0 0 4 0 4 4 0 4 0 4 0 4 4 0 0 4 4 0 4 0 4 4 0 0 4 0 4 4 4 0\n",
      " 4 0 4 4 4 4 0 0 0 4 0 4 4 0 4 4 4 4 0 0 4 0 4 4 4 4 0 0 0 4 0 4 4 0 4 4 4\n",
      " 4 0 0 0 0 4 4 0 4 4 0 0 4 0 0 4 4 4 4 4 0 4 4 4 0 4 0 4 4 0 4 0 4 0 4 0 0\n",
      " 0 4 4 4 4 4 4 0 4 4 4 4 0 0 0 4 4 0 0 4 0 4 0 4 0 4 4 4 4 4 4 4 0 4 4 4 4\n",
      " 4 4 4 0 4 0 4 4 4 4 4 0 4 0 4 0 4 0 4 4 4 0 4 0 4 0 0 4 0 4 4 4 0 0 4 4 4\n",
      " 4 4 4 4 4 4 0 4 4 4 4 4 4 4 4 0 4 0 4 4 4 0 4 4 4 0 4 0 0 4 4 4 4 4 4 0 4\n",
      " 0 0 4 4 0 4 4 4 0 4 0 4 4 4 0 4 4 4 0 4 0 0 4 0 4 0 0 0 0 4 4 4 0 4 4 4 4\n",
      " 0 4 0 4 0 4 0 4 0 4 4 4 4 4 4 0 4 4 0 0 0 4 4 0 4 4 4 0 4 4 4 0 4 4 0 4 0\n",
      " 4 0 4 4 4 4 0 4 4 0 4 4 4 0 4 0 0 4 4 0 4 0 4 0 4 4 0 4 4 4 4 0 4 4 4 4 0\n",
      " 4 0 0 0 4 0 0 0 0 0 0 4 0 4 4 0 4 0 0 4 0 0 0 4 0 0 0 4 4 4 0 0 0 4 0 4 0\n",
      " 4 4 4 0 4 0 4 4 0 4 0 0 0 0 0 4 4 0 4 4 0 0 0 4 0 4 4 0 4]\n"
     ]
    }
   ],
   "source": [
    "# Assign each data point to the cluster with the highest membership\n",
    "cluster_labels = np.argmax(U, axis=1)\n",
    "\n",
    "print(\"Membership Matrix:\")\n",
    "print(U)\n",
    "print(\"\\nCrisp Cluster Labels:\")\n",
    "print(cluster_labels)"
   ]
  },
  {
   "cell_type": "markdown",
   "id": "67e828b0-f2fd-490e-afc9-c1fae858cc58",
   "metadata": {
    "deletable": false,
    "editable": false
   },
   "source": [
    "**Q7.** The Silhoutte score is a measure of how well the clustering has been done, the closer the score to $1.0$ the better the clustering. Refer to sklearn.metrics.silhouette_score. Determine the best choice of hyperparameters $m_1, m_2, \\textrm{nclusters}$ through a grid search based on the silhoutte score as the evaluation metric. <font color='blue'>Report the best combination of hyperparameters.</font> For the grid search try $m_1 = 1.0, 1.2, \\cdots, 3.0$, $m_2 = 1.2, 1.4, \\cdots, 3.0$, $\\textrm{nclusters} = 2, 3, \\cdots, 15$."
   ]
  },
  {
   "cell_type": "code",
   "execution_count": null,
   "id": "fddd16fc-9251-4f67-8d5c-a969fffb4c92",
   "metadata": {},
   "outputs": [],
   "source": []
  },
  {
   "cell_type": "markdown",
   "id": "2596898b-f7a6-4f88-9a6a-0c7037c9d6e6",
   "metadata": {
    "deletable": false,
    "editable": false
   },
   "source": [
    "**Q8.** For the best combination of hyperparameters run the following visualization function with different values for $0 \\leq f_1 < f_2 < \\textrm{nclusters}$. <font color='blue'>What do you see? Explain the purpose of the code and what you would expect through this?</font>"
   ]
  },
  {
   "cell_type": "code",
   "execution_count": 8,
   "id": "3431b7fa-550b-4a09-a7c4-6935a5954f08",
   "metadata": {
    "deletable": false,
    "editable": false
   },
   "outputs": [],
   "source": [
    "def visualizeClusters2D(X, y, f1, f2):\n",
    "    colorlist = ['black', 'gray', 'red', 'sienna', 'green', 'blue', 'gold', 'darkorange', 'olive', 'lavendar', 'salmon', 'teal', 'pink', 'magenta', 'tan', 'wheat']\n",
    "\n",
    "    for i in range(8):\n",
    "        plt.scatter(X[yfuzzy == i, f1], X[yfuzzy == i, f2], color = colorlist[i])\n",
    "\n",
    "    plt.show()\n"
   ]
  },
  {
   "cell_type": "code",
   "execution_count": null,
   "id": "2974c285-c18e-4c80-b8d1-710bfd4bd05b",
   "metadata": {},
   "outputs": [],
   "source": [
    "#TODO fill in the code"
   ]
  },
  {
   "cell_type": "markdown",
   "id": "29a012d1-a545-4c10-a3a1-b79406853a73",
   "metadata": {
    "deletable": false,
    "editable": false,
    "slideshow": {
     "slide_type": ""
    },
    "tags": []
   },
   "source": [
    "**Q9.** Load (to a pandas dataframe) the actual dataset (SMData.csv) from which the previous dataset was cleaned out. Match each entry in this dataset with the labels you found out through clustering using the best combination of hyperparameters. Go through a few of those clustered entries and notice any patterns (or common sentiment) in the text (the \"Text\" column of this dataset) of each entry within clusters vs outside the clusters. The label of the $i$th entry in the dataset $= \\textrm{yfuzzy}[i]$. <font color='blue'>Explain any observations. Based on your observations, is the clustering successful?</font>"
   ]
  },
  {
   "cell_type": "code",
   "execution_count": 54,
   "id": "282743d7-97bd-4277-a05f-fe5c3c200fc0",
   "metadata": {},
   "outputs": [
    {
     "name": "stdout",
     "output_type": "stream",
     "text": [
      "Cluster 0:\n",
      "[' A moment of shame for not speaking up against injustice.', ' Bitterness festering like a venomous vine, entwining the soul in a web of resentment, poisoning the garden of peace. ', 'Captivated by the serenity of a tranquil garden in full bloom.     ', ' Reflecting on the beauty of nature.                ', ' An amusing incident brightened up my day!               ']\n",
      "--------------------------------------------------------------------------------\n",
      "Cluster 4:\n",
      "['Wandering through a historical museum, the history enthusiast becomes immersed in the tales of the past, envisioning bygone eras. ', 'Harmony resonates as musicians play a melody of unity and togetherness. ', 'Spent the day binge-watching a new series. Productivity level: Zero. #LazyDay #TVSeriesMarathon ', ' Feeling inspired after attending a workshop.       ', \"Contemplating life's mysteries under the starry night sky.         \"]\n",
      "--------------------------------------------------------------------------------\n",
      "Top words in Cluster 0: [('the', 441), ('of', 326), ('a', 302), ('in', 156), ('to', 67), ('with', 61), ('for', 58), ('and', 58), ('on', 40), ('by', 38)]\n",
      "--------------------------------------------------------------------------------\n",
      "Top words in Cluster 4: [('the', 367), ('a', 319), ('of', 297), ('in', 103), ('to', 66), ('and', 53), ('on', 51), ('with', 46), ('for', 41), ('new', 37)]\n",
      "--------------------------------------------------------------------------------\n"
     ]
    }
   ],
   "source": [
    "# Step 1: Load the original dataset\n",
    "file_path = \"SMData.csv\"  # Update this with the actual path to your dataset\n",
    "data = pd.read_csv(file_path)\n",
    "\n",
    "# Step 2: Ensure the membership matrix and cluster labels from fuzzy clustering\n",
    "# Assume `membership_matrix` contains the fuzzy clustering output\n",
    "# Assume `yfuzzy` contains the crisp cluster labels derived from the best parameters\n",
    "yfuzzy = np.argmax(U, axis=1)\n",
    "\n",
    "# Step 3: Add the cluster labels to the dataset\n",
    "data['Cluster_Label'] = yfuzzy\n",
    "\n",
    "# Step 4: Explore patterns in the text column based on clusters\n",
    "# Group the dataset by cluster labels\n",
    "grouped = data.groupby('Cluster_Label')\n",
    "\n",
    "# Print out a few sample texts from each cluster\n",
    "for label, group in grouped:\n",
    "    print(f\"Cluster {label}:\")\n",
    "    print(group['Text'].sample(5, random_state=42).to_list())  # Show 5 random samples from this cluster\n",
    "    print(\"-\" * 80)\n",
    "\n",
    "# Step 5: Explore sentiments or patterns\n",
    "# Example: Count words in each cluster to observe patterns\n",
    "from collections import Counter\n",
    "\n",
    "for label, group in grouped:\n",
    "    word_counts = Counter(\" \".join(group['Text']).split())\n",
    "    most_common_words = word_counts.most_common(10)  # Top 10 most common words\n",
    "    print(f\"Top words in Cluster {label}: {most_common_words}\")\n",
    "    print(\"-\" * 80)"
   ]
  },
  {
   "cell_type": "code",
   "execution_count": null,
   "id": "165a5514-98b0-48de-b2fc-89d84df0bce4",
   "metadata": {},
   "outputs": [],
   "source": []
  }
 ],
 "metadata": {
  "kernelspec": {
   "display_name": "Python 3 (ipykernel)",
   "language": "python",
   "name": "python3"
  },
  "language_info": {
   "codemirror_mode": {
    "name": "ipython",
    "version": 3
   },
   "file_extension": ".py",
   "mimetype": "text/x-python",
   "name": "python",
   "nbconvert_exporter": "python",
   "pygments_lexer": "ipython3",
   "version": "3.9.5"
  }
 },
 "nbformat": 4,
 "nbformat_minor": 5
}
