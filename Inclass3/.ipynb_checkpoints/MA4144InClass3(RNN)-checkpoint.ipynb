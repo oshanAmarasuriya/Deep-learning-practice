{
 "cells": [
  {
   "cell_type": "markdown",
   "id": "dda0e25f-476a-43c0-b3e7-f96a707be566",
   "metadata": {
    "deletable": false,
    "editable": false
   },
   "source": [
    "# <center>Recurrent Neural Networks</center>\n",
    "## <center>Inclass Project 3 - MA4144</center>\n",
    "\n",
    "This project contains 10 tasks/questions to be completed, some require written answers. Open a markdown cell below the respective question that require written answers and provide (type) your answers. Questions that required written answers are given in blue fonts. Almost all written questions are open ended, they do not have a correct or wrong answer. You are free to give your opinions, but please provide related answers within the context.\n",
    "\n",
    "After finishing project run the entire notebook once and **save the notebook as a pdf** (File menu -> Save and Export Notebook As -> PDF). You are **required to upload this PDF on moodle**.\n",
    "\n",
    "***"
   ]
  },
  {
   "cell_type": "markdown",
   "id": "03930b71-f7aa-4eb8-a078-70fc89a1ac16",
   "metadata": {
    "deletable": false,
    "editable": false
   },
   "source": [
    "## Outline of the project\n",
    "\n",
    "The aim of the project is to build a RNN model to suggest autocompletion of half typed words. You may have seen this in many day today applications; typing an email, a text message etc. For example, suppose you type in the four letter \"univ\", the application may suggest you to autocomplete it by \"university\".\n",
    "\n",
    "![Autocomplete](https://d33v4339jhl8k0.cloudfront.net/docs/assets/5c12e83004286304a71d5b72/images/66d0cb106eb51e63b8f9fbc6/file-gBQe016VYt.gif)\n",
    "\n",
    "We will train a RNN to suggest possible autocompletes given $3$ - $4$ starting letters. That is if we input a string \"univ\" hopefully we expect to see an output like \"university\", \"universal\" etc.\n",
    "\n",
    "For this we will use a text file (wordlist.txt) containing 10,000 common English words (you'll find the file on the moodle link). The list of words will be the \"**vocabulary**\" for our model.\n",
    "\n",
    "We will use the Python **torch library** to implement our autocomplete model. \n",
    "\n",
    "***\n"
   ]
  },
  {
   "cell_type": "markdown",
   "id": "f4db6bc0-f7e0-473d-a172-e6579deea2ee",
   "metadata": {
    "deletable": false,
    "editable": false
   },
   "source": [
    "Use the below cell to use any include any imports"
   ]
  },
  {
   "cell_type": "code",
   "execution_count": 1,
   "id": "76fdc286-3211-4a8f-9802-29d28a324bea",
   "metadata": {},
   "outputs": [],
   "source": [
    "import torch\n",
    "import torch.nn as nn\n",
    "import torch.optim as optim\n",
    "import numpy as np\n",
    "import matplotlib.pyplot as plt\n",
    "import random"
   ]
  },
  {
   "cell_type": "markdown",
   "id": "8622b61b-dba8-47bb-8e07-92b77e78f4fa",
   "metadata": {
    "deletable": false,
    "editable": false
   },
   "source": [
    "## Section 1: Preparing the vocabulary"
   ]
  },
  {
   "cell_type": "code",
   "execution_count": 2,
   "id": "555a82e5-e56c-4075-a2a2-071633cd4d4c",
   "metadata": {},
   "outputs": [],
   "source": [
    "WORD_SIZE = 13"
   ]
  },
  {
   "cell_type": "markdown",
   "id": "ef4f44ef-91d0-4d0e-afb5-a66240c9e1d4",
   "metadata": {
    "deletable": false,
    "editable": false
   },
   "source": [
    "**Q1.** In the following cell provide code to load the text file (each word is in a newline), then extract the words (in lowercase) into a list.\n",
    "\n",
    "For practical reasons of training the model we will only use words that are longer that $3$ letters and that have a maximum length of WORD_SIZE (this will be a constant we set at the beginning - you can change this and experiment with different WORD_SIZEs). As seen above it is set to $13$.\n",
    "\n",
    "So out of the extracted list of words filter out those words that match our criteria on word length.\n",
    "\n",
    "To train our model it is convenient to have words/strings of equal length. We will choose to convert every word to length of WORD_SIZE, by adding underscores to the end of the word if it is initially shorter than WORD_SIZE. For example, we will convert the word \"university\" (word length 10) into \"university___\" (wordlength 13). In your code include this conversion as well.\n",
    "\n",
    "Store the processed WORD_SIZE lengthed strings in a list called vocab."
   ]
  },
  {
   "cell_type": "code",
   "execution_count": 3,
   "id": "3219551c-a298-424a-a491-2d7f65a4ad6f",
   "metadata": {},
   "outputs": [
    {
     "name": "stdout",
     "output_type": "stream",
     "text": [
      "aaron________ abandoned____ aberdeen_____\n"
     ]
    }
   ],
   "source": [
    "vocab=[]\n",
    "with open('wordlist.txt', 'r') as file:\n",
    "    for line in file:\n",
    "        line=line[:-1]\n",
    "        if len(line)>3 :\n",
    "            if len(line)< WORD_SIZE:\n",
    "                padding_length= WORD_SIZE-len(line)\n",
    "                padding=\"\"\n",
    "                for i in range(padding_length):\n",
    "                    padding+=\"_\"\n",
    "                vocab.append(line+padding)\n",
    "            elif len(line) == WORD_SIZE:\n",
    "                vocab.append(line)\n",
    "print(vocab[0], vocab[1], vocab[2])            \n"
   ]
  },
  {
   "cell_type": "markdown",
   "id": "69d3a6fe-c0a7-4808-aa1a-4c3ad6db6de3",
   "metadata": {
    "deletable": false,
    "editable": false
   },
   "source": [
    "<font color='blue'>In the above explanation it was mentioned \"for practical reasons of training the model we will only use words that are longer that $3$ letters and that have a certain maximum length\". In your opinion what could be those practical? Will hit help to build a better model?</font>"
   ]
  },
  {
   "cell_type": "markdown",
   "id": "aaf86cdd-96b2-40eb-8230-c3f04e93cfc4",
   "metadata": {},
   "source": [
    "**Answer** \n",
    "<span style=\"color:green\">\n",
    "Because when the word becomes very lengthy, we have to maintain a long context(i.e. need to unroll the RNN as the length that causes in-efficient weight matrix calculations)\n",
    "</span>."
   ]
  },
  {
   "cell_type": "markdown",
   "id": "552b2e6d-f771-4782-8b21-73c121565faa",
   "metadata": {
    "deletable": false,
    "editable": false
   },
   "source": [
    "**Q2** To input words into the model, we will need to convert each letter/character into a number. as we have seen above, the only characters in our list vocab will be the underscore and lowercase english letters. so we will convert these $27$ characters into numbers as follows: underscore -> $0$, 'a' -> $1$, 'b' -> $2$, $\\cdots$, 'z' -> $26$. In the following cell,\n",
    "\n",
    "(i) Implement a method called char_to_num, that takes in a valid character and outputs its numerical assignment.\n",
    "\n",
    "(ii) Implement a method called num_to_char, that takes in a valid number from $0$ to $26$ and outputs the corresponding character.\n",
    "\n",
    "(iii) Implement a method called word_to_numlist, that takes in a word from our vocabulary and outputs a (torch) tensor of numbers that corresponds to each character in the word in that order. For example: the word \"united_______\" will be converted to tensor([21, 14,  9, 20,  5,  4,  0,  0,  0,  0,  0,  0,  0]). You are encouraged to use your char_to_num method for this.\n",
    "\n",
    "(iv) Implement a method called numlist_to_word, that does the opposite of the above described word_to_numlist, given a tensor of numbers from $0$ to $26$, outputs the corresponding word. You are encouraged to use your  num_to_char method for this.\n",
    "\n",
    "Note: As mentioned since we are using the torch library we will be using tensors instead of the usual python lists or numpy arrays. Tensors are the list equivalent in torch. Torch models only accept tensors as input and they output tensors."
   ]
  },
  {
   "cell_type": "code",
   "execution_count": 4,
   "id": "054a4ab4-5883-4948-adc5-eb8916b6234d",
   "metadata": {},
   "outputs": [
    {
     "name": "stdout",
     "output_type": "stream",
     "text": [
      "united_______\n"
     ]
    }
   ],
   "source": [
    "def char_to_num(char):\n",
    "\n",
    "    char_dict={'_':0,'a':1,'b':2,'c':3,'d':4,'e':5,'f':6,'g':7,'h':8,'i':9,'j':10,'k':11,'l':12,'m':13,'n':14,'o':15,'p':16,'q':17,'r':18,'s':19,'t':20,'u':21,'v':22,'w':23,'x':24,'y':25,'z':26}\n",
    "    \n",
    "    return(char_dict[char])\n",
    "\n",
    "def num_to_char(num):\n",
    "\n",
    "    num_dict={0:'_',1:'a',2:'b',3:'c',4:'d',5:'e',6:'f',7:'g',8:'h',9:'i',10:'j',11:'k',12:'l',13:'m',14:'n',15:'o',16:'p',17:'q',18:'r',19:'s',20:'t',21:'u',22:'v',23:'w',24:'x',25:'y',26:'z'}\n",
    "    \n",
    "    return(num_dict[num])\n",
    "\n",
    "def word_to_numlist(word):\n",
    "    temp_list=[]\n",
    "    for c in word:\n",
    "        temp_list.append(char_to_num(c))\n",
    "    return(torch.tensor(temp_list))\n",
    "\n",
    "def numlist_to_word(numlist):\n",
    "    word=''\n",
    "    for element in numlist:\n",
    "        word+=num_to_char(int(element))\n",
    "    \n",
    "    return(word)\n",
    "print(numlist_to_word(torch.tensor([21, 14, 9, 20, 5, 4, 0, 0, 0, 0, 0, 0, 0])))"
   ]
  },
  {
   "cell_type": "markdown",
   "id": "028d1936-fadb-4ddb-9027-3a75960aa6b1",
   "metadata": {
    "deletable": false,
    "editable": false
   },
   "source": [
    "<font color='blue'>We convert letter into just numbers based on their aphabetical order, I claim that it is a very bad way to encode data such as letters to be fed into learning models, please write your explanation to or against my claim. If you are searching for reasons, the keyword 'categorical data' may be useful. Although the letters in our case are not treated as categorical data, the same reasons as for categorical data is applicable. Even if my claim is valid, at the end it won't matter due to something called \"embedding layers\" that we will use in our model. What is an embedding layer? What is it's purpose? Explain.</font>"
   ]
  },
  {
   "cell_type": "markdown",
   "id": "65de3f69-cd06-4adc-8150-2522802f345a",
   "metadata": {},
   "source": [
    "**Answer** \n",
    "<span style=\"color:green\">\n",
    "By assigning numerical values based on alphabetical order can mislead the model into thiking the letters have any intrinsic relationship based on numerical proximity. So your claim is right.\n",
    "A trainable layer called an embedding layer converts input data—such discrete or category values like letters—into dense vectors of real numbers. Therefore an embedding layer can be used to mitigate the impact of poor encoding.\n",
    "</span>."
   ]
  },
  {
   "cell_type": "markdown",
   "id": "92070a74-0f42-435d-a3ba-b38f0d1aaf3c",
   "metadata": {
    "deletable": false,
    "editable": false
   },
   "source": [
    "## Section 2: Implementing the Autocomplete model"
   ]
  },
  {
   "cell_type": "markdown",
   "id": "6cbb965e-afcd-41ae-86f0-2f3d4682e18b",
   "metadata": {
    "deletable": false,
    "editable": false
   },
   "source": [
    "We will implement a RNN model based on LSTM. The [video tutorial](https://www.youtube.com/watch?v=tL5puCeDr-o) will be useful. Our model will be only one hidden layer, but feel free to sophisticate with more layers after the project for your own experiments.\n",
    "\n",
    "Our model will contain all the training and prediction methods as single package in a class (autocompleteModel) we will define and implement below."
   ]
  },
  {
   "cell_type": "code",
   "execution_count": 5,
   "id": "0dfe311c-669d-4d58-a833-ae3970b6d271",
   "metadata": {},
   "outputs": [],
   "source": [
    "LEARNING_RATE = 0.005"
   ]
  },
  {
   "cell_type": "code",
   "execution_count": 6,
   "id": "4976fc91-2c4e-497a-954e-9014dd31be5e",
   "metadata": {},
   "outputs": [],
   "source": [
    "class autocompleteModel(nn.Module):\n",
    "\n",
    "    #Constructor\n",
    "    def __init__(self, alphabet_size, embed_dim, hidden_size, num_layers):\n",
    "        super().__init__()\n",
    "\n",
    "        #Set the input parameters to self parameters\n",
    "        self.alphabet_size = alphabet_size\n",
    "        self.embed_dim = embed_dim\n",
    "        self.hidden_size = hidden_size\n",
    "        self.num_layers = num_layers\n",
    "\n",
    "        #Initialize the layers in the model:\n",
    "        #1 embedding layer, 1 - LSTM cell (hidden layer), 1 fully connected layer with linear activation\n",
    "\n",
    "        self.embed = torch.nn.Embedding(num_embeddings=alphabet_size,\n",
    "                                        embedding_dim=embed_dim)\n",
    "        self.rnn = torch.nn.LSTMCell(input_size=embed_dim,\n",
    "                                     hidden_size=hidden_size)\n",
    "        self.fc = torch.nn.Linear(hidden_size, alphabet_size)\n",
    "\n",
    "    #Feedforward\n",
    "    def forward(self, character, hidden_state, cell_state):\n",
    "\n",
    "        #Perform feedforward in order\n",
    "        #1. Embed the input (one charcter represented by a number)\n",
    "        #2. Feed the embedded output to the LSTM cell\n",
    "        #3. Feed the LSTM output to the fully connected layer to obtain the output\n",
    "        #4. return the output, and both the hidden state and cell state from the LSTM cell output\n",
    "\n",
    "        embedded = self.embed(character)\n",
    "\n",
    "        (hidden_state, cell_state) = self.rnn(embedded, (hidden_state, cell_state))\n",
    "        output = self.fc(hidden_state)\n",
    "        return output, hidden_state, cell_state\n",
    "\n",
    "    #Intialize the first hidden state and cell state (for the start of a word) as zero tensors of required length.\n",
    "    def initial_state(self):\n",
    "\n",
    "        h0 = torch.zeros(1, self.hidden_size)\n",
    "        c0 = torch.zeros(1, self.hidden_size)\n",
    "        \n",
    "        return (h0, c0)\n",
    "\n",
    "    #Train the model in epochs given the vocab, the training will be fed in batches of batch_size\n",
    "    def trainModel(self, vocab, epochs = 5, batch_size = 100):\n",
    "\n",
    "        #Convert the model into train mode\n",
    "        self.train()\n",
    "\n",
    "        #Set the optimizer (ADAM), you may need to provide the model parameters  and learning rate\n",
    "        #optimizer = \n",
    "        optimizer = torch.optim.Adam(self.parameters(), LEARNING_RATE)\n",
    "\n",
    "        #Keep a log of the loss at the end of each training cycle.\n",
    "        loss_log = []\n",
    "\n",
    "        # Loss function\n",
    "        criterion = torch.nn.CrossEntropyLoss()\n",
    "\n",
    "        for e in range(epochs):\n",
    "                #Shuffle the vocab list the start of each epoch\n",
    "                random.shuffle(vocab)\n",
    "                num_iter = len(vocab) // batch_size\n",
    "\n",
    "                for i in range(num_iter):\n",
    "                    vocab_batch = vocab[i * batch_size:(i + 1) * batch_size]\n",
    "                    \n",
    "    \n",
    "                    #Set the loss to zero, initialize the optimizer with zero_grad at the beginning of each training cycle.\n",
    "                    optimizer.zero_grad()\n",
    "                    total_loss = 0\n",
    "                    for word in vocab_batch:\n",
    "    \n",
    "                        #Initialize the hidden state and cell state at the start of each word.\n",
    "                        hidden_state, cell_state = self.initial_state()\n",
    "    \n",
    "                        #Convert the word into a tensor of number and create input and target from the word\n",
    "                        word_tensor=word_to_numlist(word)\n",
    "                                            \n",
    "                        #Input will be the first WORD_SIZE - 1 charcters and target is the last WORD_SIZE - 1 charcters\n",
    "                        Input=word_tensor[:-1]\n",
    "                        target=word_tensor[1:]\n",
    "    \n",
    "                        #Loop through each character (as a number) in the word\n",
    "                        for c in range(WORD_SIZE - 1):\n",
    "                            #Feed the cth character to the model (feedforward) and comput the loss (use cross entropy in torch)\n",
    "                            output, hidden_state, cell_state = self.forward(Input[c].view(1), hidden_state, cell_state)\n",
    "                            loss = criterion(output, target[c].view(1))\n",
    "                            total_loss += loss\n",
    "                    \n",
    "\n",
    "                    #Compute the average loss per word in the batch and perform backpropagation (.backward())\n",
    "                    avg_loss = total_loss / batch_size\n",
    "                    avg_loss.backward()\n",
    "                        \n",
    "                    #Update model parameters using the optimizer\n",
    "                    optimizer.step()\n",
    "    \n",
    "                    #Update the loss_log \n",
    "                    loss_log.append(avg_loss.item())\n",
    "\n",
    "                print(f\"Epoch {e+1}, Loss: {avg_loss.item()}\")\n",
    "\n",
    "        # Plot a graph of the variation of the loss.\n",
    "        plt.plot(loss_log)\n",
    "        plt.xlabel('Iterations')\n",
    "        plt.ylabel('Loss')\n",
    "        plt.show()\n",
    "\n",
    "    #Perform autocmplete given a sample of strings (typically 3-5 starting letters)\n",
    "    def autocomplete(self, sample):\n",
    "\n",
    "        #Convert the model into evaluation mode\n",
    "        self.eval()\n",
    "\n",
    "        completed_list = []\n",
    "\n",
    "        #TODO: In the following loop for each sample item initialize hidden and cell states, then predict the remaining characters\n",
    "        #You will have to convert the output into a softmax (you may use your softmax method from the last project) probability distribution, then use torch.multinomial \n",
    "        for literal in sample:\n",
    "            hidden_state, cell_state = self.initial_state()\n",
    "            literal_tensor = word_to_numlist(literal)\n",
    "            for i in range(len(literal), WORD_SIZE):\n",
    "                output, hidden_state, cell_state = self.forward(literal_tensor[-1].view(1), hidden_state, cell_state)\n",
    "\n",
    "                probabilities = torch.nn.functional.softmax(output, dim=1)\n",
    "                predicted_char = torch.multinomial(probabilities, 1).item()\n",
    "                literal_tensor = torch.cat([literal_tensor, torch.tensor([predicted_char])])\n",
    "                \n",
    "            # Convert the tensor back to characters\n",
    "            completed_word = numlist_to_word(literal_tensor)\n",
    "            completed_list.append(completed_word)\n",
    "                \n",
    "\n",
    "        return(completed_list)"
   ]
  },
  {
   "cell_type": "code",
   "execution_count": 7,
   "id": "6ec31303-5795-4236-917a-dce306364edf",
   "metadata": {},
   "outputs": [
    {
     "name": "stdout",
     "output_type": "stream",
     "text": [
      "Epoch 1, Loss: 14.839669227600098\n",
      "Epoch 2, Loss: 13.747432708740234\n",
      "Epoch 3, Loss: 13.129802703857422\n",
      "Epoch 4, Loss: 13.157696723937988\n",
      "Epoch 5, Loss: 11.888566017150879\n"
     ]
    },
    {
     "data": {
      "image/png": "[encoded data removed]",
      "text/plain": [
       "<Figure size 640x480 with 1 Axes>"
      ]
     },
     "metadata": {},
     "output_type": "display_data"
    }
   ],
   "source": [
    "alphabet_size = 27  # _, a to z\n",
    "embed_dim = 64  # Dimension of the embedding vector\n",
    "hidden_size = 128  # Hidden state size in LSTM\n",
    "num_layers = 2  \n",
    "\n",
    "# Initialize the model\n",
    "model = autocompleteModel(alphabet_size, embed_dim, hidden_size, num_layers)\n",
    "\n",
    "# Train the model\n",
    "model.trainModel(vocab,epochs=5,batch_size=100)"
   ]
  },
  {
   "cell_type": "code",
   "execution_count": 8,
   "id": "77274281-065a-4ad6-8ff0-ce6ee0406ff2",
   "metadata": {},
   "outputs": [
    {
     "name": "stdout",
     "output_type": "stream",
     "text": [
      "Original: app, Completed: apports______\n",
      "Original: cak, Completed: caknowdung___\n",
      "Original: butterf, Completed: butterfriptio\n",
      "Original: icecrea, Completed: icecreaccerre\n"
     ]
    }
   ],
   "source": [
    "# Sample input for autocomplete (starting letters of words)\n",
    "sample = ['app', 'cak', 'butterf', 'icecrea']\n",
    "\n",
    "# Get autocomplete predictions\n",
    "predictions = model.autocomplete(sample)\n",
    "\n",
    "# Print predictions\n",
    "for i, prediction in enumerate(predictions):\n",
    "    print(f\"Original: {sample[i]}, Completed: {prediction}\")"
   ]
  },
  {
   "cell_type": "code",
   "execution_count": 9,
   "id": "95b53525-8ccb-4191-bac3-c73f10b21f43",
   "metadata": {},
   "outputs": [
    {
     "name": "stdout",
     "output_type": "stream",
     "text": [
      "Original: univ, Completed: univicialifia\n",
      "Original: math, Completed: mathielder___\n",
      "Original: neur, Completed: neurevy______\n",
      "Original: engin, Completed: enginote_____\n",
      "Original: run, Completed: runessions___\n",
      "Original: acquir, Completed: acquirealty__\n",
      "Original: accen, Completed: accenets_____\n"
     ]
    }
   ],
   "source": [
    "# Sample input for autocomplete (starting letters of words)\n",
    "sample = ['univ', 'math', 'neur', 'engin','run','acquir','accen']\n",
    "\n",
    "# Get autocomplete predictions\n",
    "predictions = model.autocomplete(sample)\n",
    "\n",
    "# Print predictions\n",
    "for i, prediction in enumerate(predictions):\n",
    "    print(f\"Original: {sample[i]}, Completed: {prediction}\")"
   ]
  },
  {
   "cell_type": "code",
   "execution_count": 10,
   "id": "3dc79d34-8c21-4910-86f0-19d677b6d570",
   "metadata": {},
   "outputs": [
    {
     "name": "stdout",
     "output_type": "stream",
     "text": [
      "Epoch 1, Loss: 18.690725326538086\n",
      "Epoch 2, Loss: 15.934913635253906\n",
      "Epoch 3, Loss: 15.453068733215332\n",
      "Epoch 4, Loss: 14.695504188537598\n",
      "Epoch 5, Loss: 15.801111221313477\n"
     ]
    },
    {
     "data": {
      "image/png": "[encoded data removed]",
      "text/plain": [
       "<Figure size 640x480 with 1 Axes>"
      ]
     },
     "metadata": {},
     "output_type": "display_data"
    }
   ],
   "source": [
    "alphabet_size = 27  # _, a to z\n",
    "embed_dim = 10  # Dimension of the embedding vector\n",
    "hidden_size = 50  # Hidden state size in LSTM\n",
    "num_layers = 2  \n",
    "\n",
    "# Initialize the model\n",
    "model = autocompleteModel(alphabet_size, embed_dim, hidden_size, num_layers)\n",
    "\n",
    "# Train the model\n",
    "model.trainModel(vocab,epochs=5,batch_size=100)"
   ]
  },
  {
   "cell_type": "code",
   "execution_count": 11,
   "id": "caa5ccc8-9985-4b31-85a5-fa73fe2435a3",
   "metadata": {},
   "outputs": [
    {
     "name": "stdout",
     "output_type": "stream",
     "text": [
      "Original: app, Completed: appemsuens___\n",
      "Original: cak, Completed: cakarcs______\n",
      "Original: butterf, Completed: butterfassage\n",
      "Original: icecrea, Completed: icecreactrog_\n"
     ]
    }
   ],
   "source": [
    "# Sample input for autocomplete (starting letters of words)\n",
    "sample = ['app', 'cak', 'butterf', 'icecrea']\n",
    "\n",
    "# Get autocomplete predictions\n",
    "predictions = model.autocomplete(sample)\n",
    "\n",
    "# Print predictions\n",
    "for i, prediction in enumerate(predictions):\n",
    "    print(f\"Original: {sample[i]}, Completed: {prediction}\")"
   ]
  },
  {
   "cell_type": "code",
   "execution_count": 12,
   "id": "48ad681e-009e-443d-9b4f-edbffe97fe7f",
   "metadata": {},
   "outputs": [
    {
     "name": "stdout",
     "output_type": "stream",
     "text": [
      "Original: univ, Completed: univopkevus__\n",
      "Original: math, Completed: mathxenet____\n",
      "Original: neur, Completed: neurellates__\n",
      "Original: engin, Completed: enginextel___\n",
      "Original: run, Completed: runexgls_____\n",
      "Original: acquir, Completed: acquirarmes__\n",
      "Original: accen, Completed: accenitrertan\n"
     ]
    }
   ],
   "source": [
    "# Sample input for autocomplete (starting letters of words)\n",
    "sample = ['univ', 'math', 'neur', 'engin','run','acquir','accen']\n",
    "\n",
    "# Get autocomplete predictions\n",
    "predictions = model.autocomplete(sample)\n",
    "\n",
    "# Print predictions\n",
    "for i, prediction in enumerate(predictions):\n",
    "    print(f\"Original: {sample[i]}, Completed: {prediction}\")"
   ]
  },
  {
   "cell_type": "code",
   "execution_count": 14,
   "id": "3be85612-9031-4dc9-b829-d1db0c93ad83",
   "metadata": {},
   "outputs": [
    {
     "name": "stdout",
     "output_type": "stream",
     "text": [
      "Original: aerop, Completed: aeropraolled_\n",
      "Original: comp, Completed: compinding___\n",
      "Original: eleph, Completed: elephaprers__\n",
      "Original: jupyt, Completed: jupytels_____\n",
      "Original: eati, Completed: eating_______\n",
      "Original: durab, Completed: durabimphestr\n",
      "Original: follow, Completed: followars____\n",
      "Original: accord, Completed: accordicters_\n",
      "Original: success, Completed: successechige\n"
     ]
    }
   ],
   "source": [
    "# Sample input for autocomplete (starting letters of words)\n",
    "sample = ['aerop', 'comp', 'eleph', 'jupyt','eati','durab','follow','accord','success']\n",
    "\n",
    "# Get autocomplete predictions\n",
    "predictions = model.autocomplete(sample)\n",
    "\n",
    "# Print predictions\n",
    "for i, prediction in enumerate(predictions):\n",
    "    print(f\"Original: {sample[i]}, Completed: {prediction}\")"
   ]
  },
  {
   "cell_type": "code",
   "execution_count": 8,
   "id": "3000bbcd-d432-4abc-a2f2-0d46b23a0970",
   "metadata": {},
   "outputs": [
    {
     "name": "stdout",
     "output_type": "stream",
     "text": [
      "Epoch 1, Loss: 14.033120155334473\n",
      "Epoch 2, Loss: 13.10969352722168\n",
      "Epoch 3, Loss: 12.90556812286377\n",
      "Epoch 4, Loss: 11.30656909942627\n",
      "Epoch 5, Loss: 10.280080795288086\n",
      "Epoch 6, Loss: 11.016744613647461\n",
      "Epoch 7, Loss: 9.79576587677002\n",
      "Epoch 8, Loss: 9.96634578704834\n",
      "Epoch 9, Loss: 9.60190486907959\n",
      "Epoch 10, Loss: 9.0693998336792\n",
      "Epoch 11, Loss: 8.827824592590332\n",
      "Epoch 12, Loss: 8.292430877685547\n"
     ]
    },
    {
     "data": {
      "image/png": "[encoded data removed]",
      "text/plain": [
       "<Figure size 640x480 with 1 Axes>"
      ]
     },
     "metadata": {},
     "output_type": "display_data"
    }
   ],
   "source": [
    "alphabet_size = 27  # _, a to z\n",
    "embed_dim = 64  # Dimension of the embedding vector\n",
    "hidden_size = 256  # Hidden state size in LSTM\n",
    "num_layers = 2  \n",
    "\n",
    "# Initialize the model\n",
    "model = autocompleteModel(alphabet_size, embed_dim, hidden_size, num_layers)\n",
    "\n",
    "# Train the model\n",
    "model.trainModel(vocab,epochs=12,batch_size=64)"
   ]
  },
  {
   "cell_type": "code",
   "execution_count": 9,
   "id": "d487f9e5-3349-447f-88a8-3c03e9c310e6",
   "metadata": {},
   "outputs": [
    {
     "name": "stdout",
     "output_type": "stream",
     "text": [
      "Original: app, Completed: appatent_____\n",
      "Original: cak, Completed: cakiraki_____\n",
      "Original: butterf, Completed: butterfist___\n",
      "Original: icecrea, Completed: icecreassembl\n",
      "Original: eat, Completed: eatalent_____\n",
      "Original: univ, Completed: univisiting__\n",
      "Original: math, Completed: mathose______\n",
      "Original: neur, Completed: neuresults___\n",
      "Original: engin, Completed: enginull_____\n",
      "Original: run, Completed: runulle______\n",
      "Original: acquir, Completed: acquirecipes_\n",
      "Original: accen, Completed: accenoited___\n",
      "Original: aerop, Completed: aeropaste____\n",
      "Original: comp, Completed: compatis_____\n",
      "Original: eleph, Completed: elephandhead_\n",
      "Original: jupyt, Completed: jupytooths___\n",
      "Original: eati, Completed: eatinflument_\n",
      "Original: durab, Completed: durabusiness_\n",
      "Original: follow, Completed: followroop___\n",
      "Original: accord, Completed: accordefined_\n",
      "Original: success, Completed: successugmess\n"
     ]
    }
   ],
   "source": [
    "# Sample input for autocomplete (starting letters of words)\n",
    "sample = ['app', 'cak', 'butterf', 'icecrea','eat','univ', 'math', 'neur', 'engin','run','acquir','accen','aerop', 'comp', 'eleph', 'jupyt','eati','durab','follow','accord','success']\n",
    "\n",
    "# Get autocomplete predictions\n",
    "predictions = model.autocomplete(sample)\n",
    "\n",
    "# Print predictions\n",
    "for i, prediction in enumerate(predictions):\n",
    "    print(f\"Original: {sample[i]}, Completed: {prediction}\")"
   ]
  },
  {
   "cell_type": "code",
   "execution_count": 10,
   "id": "5406dc61-243c-48c6-805f-f1566eb67107",
   "metadata": {},
   "outputs": [
    {
     "name": "stdout",
     "output_type": "stream",
     "text": [
      "Epoch 1, Loss: 14.274423599243164\n",
      "Epoch 2, Loss: 14.424825668334961\n",
      "Epoch 3, Loss: 14.146395683288574\n",
      "Epoch 4, Loss: 12.500521659851074\n",
      "Epoch 5, Loss: 12.30088996887207\n",
      "Epoch 6, Loss: 13.863349914550781\n",
      "Epoch 7, Loss: 10.913926124572754\n",
      "Epoch 8, Loss: 10.549934387207031\n",
      "Epoch 9, Loss: 11.354641914367676\n",
      "Epoch 10, Loss: 9.936513900756836\n",
      "Epoch 11, Loss: 10.648127555847168\n",
      "Epoch 12, Loss: 9.125825881958008\n",
      "Epoch 13, Loss: 10.296350479125977\n",
      "Epoch 14, Loss: 10.226272583007812\n",
      "Epoch 15, Loss: 9.2938871383667\n"
     ]
    },
    {
     "data": {
      "image/png": "[encoded data removed]",
      "text/plain": [
       "<Figure size 640x480 with 1 Axes>"
      ]
     },
     "metadata": {},
     "output_type": "display_data"
    }
   ],
   "source": [
    "alphabet_size = 27  # _, a to z\n",
    "embed_dim = 64  # Dimension of the embedding vector\n",
    "hidden_size = 128  # Hidden state size in LSTM\n",
    "num_layers = 2  \n",
    "\n",
    "# Initialize the model\n",
    "model = autocompleteModel(alphabet_size, embed_dim, hidden_size, num_layers)\n",
    "\n",
    "# Train the model\n",
    "model.trainModel(vocab,epochs=15,batch_size=32)"
   ]
  },
  {
   "cell_type": "code",
   "execution_count": 12,
   "id": "ce6e914e-5a23-4b28-8b9d-c06dd09148e1",
   "metadata": {},
   "outputs": [
    {
     "name": "stdout",
     "output_type": "stream",
     "text": [
      "Original: app, Completed: approcedures_\n",
      "Original: cak, Completed: cakynot______\n",
      "Original: butterf, Completed: butterfloor__\n",
      "Original: icecrea, Completed: icecreaccount\n",
      "Original: eati, Completed: eatinsidiens_\n",
      "Original: drink, Completed: drinkaker____\n",
      "Original: sleep, Completed: sleepublics__\n",
      "Original: write, Completed: writentroo___\n",
      "Original: hiberna, Completed: hibernaccount\n",
      "Original: driv, Completed: drivotes_____\n",
      "Original: univ, Completed: univancines__\n",
      "Original: math, Completed: mathand______\n",
      "Original: neur, Completed: neuratival___\n",
      "Original: engin, Completed: enginacution_\n",
      "Original: run, Completed: runatural____\n",
      "Original: acquir, Completed: acquiresells_\n",
      "Original: accen, Completed: accenetwash__\n",
      "Original: aerop, Completed: aeropatio____\n",
      "Original: comp, Completed: compolywerran\n",
      "Original: eleph, Completed: elephela_____\n",
      "Original: jupyt, Completed: jupytyping___\n",
      "Original: eati, Completed: eatimagine___\n",
      "Original: durab, Completed: durabecounds_\n",
      "Original: follow, Completed: followebmot__\n",
      "Original: accord, Completed: accordispatch\n",
      "Original: success, Completed: successide___\n",
      "Original: academ, Completed: academanotal_\n",
      "Original: absolute, Completed: absolutestati\n",
      "Original: access, Completed: accesstring__\n",
      "Original: accompl, Completed: accompliberal\n"
     ]
    }
   ],
   "source": [
    "# Sample input for autocomplete (starting letters of words)\n",
    "sample = ['app', 'cak', 'butterf', 'icecrea','eati','drink','sleep','write','hiberna','driv','univ',\n",
    "          'math', 'neur', 'engin','run','acquir','accen','aerop', 'comp', 'eleph', 'jupyt','eati','durab','follow','accord','success',\n",
    "          'academ','absolute','access','accompl'\n",
    "         ]\n",
    "\n",
    "# Get autocomplete predictions\n",
    "predictions = model.autocomplete(sample)\n",
    "\n",
    "# Print predictions\n",
    "for i, prediction in enumerate(predictions):\n",
    "    print(f\"Original: {sample[i]}, Completed: {prediction}\")"
   ]
  },
  {
   "cell_type": "code",
   "execution_count": 13,
   "id": "b2b9038f-5147-4e56-85a7-896464e5af69",
   "metadata": {},
   "outputs": [
    {
     "name": "stdout",
     "output_type": "stream",
     "text": [
      "Epoch 1, Loss: 14.848675727844238\n",
      "Epoch 2, Loss: 14.009238243103027\n",
      "Epoch 3, Loss: 13.230910301208496\n",
      "Epoch 4, Loss: 12.706398963928223\n",
      "Epoch 5, Loss: 12.823579788208008\n",
      "Epoch 6, Loss: 13.137028694152832\n",
      "Epoch 7, Loss: 12.6994047164917\n",
      "Epoch 8, Loss: 11.903461456298828\n",
      "Epoch 9, Loss: 12.392438888549805\n",
      "Epoch 10, Loss: 11.760208129882812\n",
      "Epoch 11, Loss: 11.701258659362793\n",
      "Epoch 12, Loss: 12.410486221313477\n",
      "Epoch 13, Loss: 12.074947357177734\n",
      "Epoch 14, Loss: 11.495227813720703\n",
      "Epoch 15, Loss: 11.377655029296875\n",
      "Epoch 16, Loss: 10.683109283447266\n",
      "Epoch 17, Loss: 11.810768127441406\n",
      "Epoch 18, Loss: 11.350310325622559\n",
      "Epoch 19, Loss: 11.460983276367188\n",
      "Epoch 20, Loss: 11.815569877624512\n"
     ]
    },
    {
     "data": {
      "image/png": "[encoded data removed]",
      "text/plain": [
       "<Figure size 640x480 with 1 Axes>"
      ]
     },
     "metadata": {},
     "output_type": "display_data"
    }
   ],
   "source": [
    "alphabet_size = 27  # _, a to z\n",
    "embed_dim = 64  # Dimension of the embedding vector\n",
    "hidden_size = 64  # Hidden state size in LSTM\n",
    "num_layers = 2  \n",
    "\n",
    "# Initialize the model\n",
    "model = autocompleteModel(alphabet_size, embed_dim, hidden_size, num_layers)\n",
    "\n",
    "# Train the model\n",
    "model.trainModel(vocab,epochs=20,batch_size=64)"
   ]
  },
  {
   "cell_type": "code",
   "execution_count": 14,
   "id": "ab42ae9d-6ebe-4625-9cfc-dce423934c66",
   "metadata": {},
   "outputs": [
    {
     "name": "stdout",
     "output_type": "stream",
     "text": [
      "Original: app, Completed: apperfaora___\n",
      "Original: cak, Completed: caknight_____\n",
      "Original: butterf, Completed: butterfinnele\n",
      "Original: icecrea, Completed: icecreapport_\n",
      "Original: eati, Completed: eatinvour____\n",
      "Original: drink, Completed: drinknows____\n",
      "Original: sleep, Completed: sleepanks____\n",
      "Original: write, Completed: writedringhot\n",
      "Original: hiberna, Completed: hibernarbuq__\n",
      "Original: driv, Completed: drivotibior__\n",
      "Original: univ, Completed: univiedge____\n",
      "Original: math, Completed: matharron____\n",
      "Original: neur, Completed: neureflection\n",
      "Original: engin, Completed: enginatirel__\n",
      "Original: run, Completed: runatis______\n",
      "Original: acquir, Completed: acquirequipia\n",
      "Original: accen, Completed: accenored____\n",
      "Original: aerop, Completed: aeroprotca___\n",
      "Original: comp, Completed: comparility__\n",
      "Original: eleph, Completed: elephopte____\n",
      "Original: jupyt, Completed: jupythiesuall\n",
      "Original: eati, Completed: eatinclide___\n",
      "Original: durab, Completed: durabeers____\n",
      "Original: follow, Completed: followebdial_\n",
      "Original: accord, Completed: accordyantal_\n",
      "Original: success, Completed: successown___\n",
      "Original: academ, Completed: academountion\n",
      "Original: absolute, Completed: absolutexplee\n",
      "Original: access, Completed: accessuitly__\n",
      "Original: accompl, Completed: accomplean___\n"
     ]
    }
   ],
   "source": [
    "# Sample input for autocomplete (starting letters of words)\n",
    "sample = ['app', 'cak', 'butterf', 'icecrea','eati','drink','sleep','write','hiberna','driv','univ',\n",
    "          'math', 'neur', 'engin','run','acquir','accen','aerop', 'comp', 'eleph', 'jupyt','eati','durab','follow','accord','success',\n",
    "          'academ','absolute','access','accompl'\n",
    "         ]\n",
    "\n",
    "# Get autocomplete predictions\n",
    "predictions = model.autocomplete(sample)\n",
    "\n",
    "# Print predictions\n",
    "for i, prediction in enumerate(predictions):\n",
    "    print(f\"Original: {sample[i]}, Completed: {prediction}\")"
   ]
  },
  {
   "cell_type": "markdown",
   "id": "1f9b5489-b770-4519-b20c-4f2beebfb8f9",
   "metadata": {
    "deletable": false,
    "editable": false
   },
   "source": [
    "## Section 3: Using and evaluating the model\n",
    "\n",
    "(i) Feel free to initialize a autocompleteModel using different embedding dimensions and hidden layer sizes. Use different learning rates, epochs, batch sizes. Train the best model you can. Show the loss curves in you answers.\n",
    "\n",
    "(ii) Evaluate it on different samples of partially filled in words. Eg: [\"univ\", \"math\", \"neur\", \"engin\"] etc. Please show outputs for different samples.\n",
    "\n",
    "<font color='blue'>Comment on the results. Is it successful? Do you see familiar substrings in the generated tesxt such as \"tion\", \"ing\", \"able\" etc. What are your suggestions to improve the model?</font>"
   ]
  },
  {
   "cell_type": "markdown",
   "id": "76c9ee6e-b6bd-4e6e-95fe-2c34b788d433",
   "metadata": {},
   "source": [
    "**Answer** \n",
    "<span style=\"color:green\">\n",
    "The model is able to generate substrings familiar to terms like 'ing, ed, ers' according to above results. However it seems to be struggling when words are bit lengthy. Increasing model capacity would be helpful. Increasing hidden size in LSTM cell , increasing the LSTM cell layers can be critical for improvements of the accruacy.\n",
    "</span>."
   ]
  },
  {
   "cell_type": "code",
   "execution_count": null,
   "id": "8ac44984-967b-47c0-810e-f8d7e95b176a",
   "metadata": {},
   "outputs": [],
   "source": []
  }
 ],
 "metadata": {
  "kernelspec": {
   "display_name": "Python 3 (ipykernel)",
   "language": "python",
   "name": "python3"
  },
  "language_info": {
   "codemirror_mode": {
    "name": "ipython",
    "version": 3
   },
   "file_extension": ".py",
   "mimetype": "text/x-python",
   "name": "python",
   "nbconvert_exporter": "python",
   "pygments_lexer": "ipython3",
   "version": "3.9.5"
  }
 },
 "nbformat": 4,
 "nbformat_minor": 5
}
